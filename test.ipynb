{
 "cells": [
  {
   "cell_type": "code",
   "execution_count": 1,
   "metadata": {},
   "outputs": [],
   "source": [
    "import torch\n",
    "import numpy as np\n",
    "from rcnn.load_data import load_dataset\n",
    "import pandas as pd\n",
    "import torchtext\n",
    "import os\n",
    "from rcnn.models.RCNN import RCNN"
   ]
  },
  {
   "cell_type": "code",
   "execution_count": 2,
   "metadata": {},
   "outputs": [
    {
     "name": "stdout",
     "output_type": "stream",
     "text": [
      "Length of Text Vocabulary: 82174\n",
      "Vector size of Text Vocabulary:  torch.Size([82174, 300])\n",
      "Label Length: 5\n",
      "Label Mapping:  defaultdict(<function _default_unk_index at 0x7feaf894b400>, {'5': 0, '4': 1, '1': 2, '3': 3, '2': 4})\n",
      "Most frequent:  [('the', 552891), ('and', 387193), ('i', 340429), ('a', 280821), ('to', 273912), ('was', 204645), ('it', 165267), ('of', 159128), ('is', 137961), ('for', 133581), ('in', 125574), ('my', 108601), ('that', 100386), ('we', 93376), ('they', 93247), ('you', 91329), ('with', 91262), ('this', 90064), ('but', 83384), ('on', 77544)]\n"
     ]
    }
   ],
   "source": [
    "torch.cuda.set_device(3)\n",
    "\n",
    "TEXT, vocab_size, word_embeddings, train_iter, valid_iter, mapping = load_dataset()\n"
   ]
  },
  {
   "cell_type": "code",
   "execution_count": 3,
   "metadata": {},
   "outputs": [],
   "source": [
    "def map_forward(label):\n",
    "    return mapping.get(str(label))"
   ]
  },
  {
   "cell_type": "code",
   "execution_count": 4,
   "metadata": {},
   "outputs": [],
   "source": [
    "# Map the output of the model (0-4) back to original region (1-5)\n",
    "def map_reverse(label):\n",
    "    for k, v in mapping.items():\n",
    "        if label == v:\n",
    "            return float(k)"
   ]
  },
  {
   "cell_type": "code",
   "execution_count": 15,
   "metadata": {},
   "outputs": [],
   "source": [
    "batch_size = 128\n",
    "output_size = 5\n",
    "hidden_size = 256\n",
    "embedding_length = 300\n",
    "\n",
    "model = RCNN(batch_size, output_size, hidden_size, vocab_size, embedding_length, word_embeddings)\n",
    "checkpoint = torch.load('checkpoint/rcnn_ep7.pth')\n",
    "model.load_state_dict(checkpoint['model_state_dict'])"
   ]
  },
  {
   "cell_type": "code",
   "execution_count": 16,
   "metadata": {},
   "outputs": [
    {
     "data": {
      "text/plain": [
       "RCNN(\n",
       "  (word_embeddings): Embedding(82174, 300)\n",
       "  (dropout): Dropout(p=0.7)\n",
       "  (lstm): LSTM(300, 256, bidirectional=True)\n",
       "  (W2): Linear(in_features=812, out_features=256, bias=True)\n",
       "  (label): Linear(in_features=256, out_features=5, bias=True)\n",
       ")"
      ]
     },
     "execution_count": 16,
     "metadata": {},
     "output_type": "execute_result"
    }
   ],
   "source": [
    "model.to(3)"
   ]
  },
  {
   "cell_type": "code",
   "execution_count": 17,
   "metadata": {},
   "outputs": [],
   "source": [
    "test = pd.read_csv('data/test_gt.csv')"
   ]
  },
  {
   "cell_type": "code",
   "execution_count": 18,
   "metadata": {},
   "outputs": [
    {
     "name": "stdout",
     "output_type": "stream",
     "text": [
      "['was', 'given', 'a', 'massage', 'envy', 'gift', 'card', 'for', 'mother', \"'s\", 'day', 'and', 'got', 'an', 'additional', 'ad', 'on', 'with', 'it', 'one', 'hour', 'massage', 'and', 'a', 'sugar', 'foot', 'scrub', 'so', 'relaxed', 'tricia', 'was', 'amazing', 'perfect', 'pressure', 'and', 'she', 'really', 'listened', 'to', 'what', 'i', 'needed', 'will', 'definitely', 'be', 'back']\n"
     ]
    }
   ],
   "source": [
    "print(TEXT.preprocess(test['text'][1]))"
   ]
  },
  {
   "cell_type": "code",
   "execution_count": 24,
   "metadata": {},
   "outputs": [
    {
     "name": "stderr",
     "output_type": "stream",
     "text": [
      "/home/shared/anaconda3/lib/python3.6/site-packages/ipykernel_launcher.py:8: UserWarning: volatile was removed and now has no effect. Use `with torch.no_grad():` instead.\n",
      "  \n"
     ]
    }
   ],
   "source": [
    "import torch.nn.functional as F\n",
    "from torch.autograd import Variable\n",
    "pred = []\n",
    "for i in range(len(test['text'])):\n",
    "    with torch.no_grad():\n",
    "        test_sen = TEXT.preprocess(test['text'][i])\n",
    "        test_sen = np.asarray([[TEXT.vocab.stoi[x] for x in test_sen]])\n",
    "        test_sen = torch.LongTensor(test_sen)\n",
    "        test_tensor = Variable(test_sen)\n",
    "        test_tensor = test_tensor.cuda(3)\n",
    "        model.eval()\n",
    "        output = model(test_tensor, 1)\n",
    "        out = F.softmax(output, 1)\n",
    "        out = torch.argmax(out[0]).item()\n",
    "\n",
    "        out = map_reverse(out)\n",
    "        pred.append(out)"
   ]
  },
  {
   "cell_type": "code",
   "execution_count": 25,
   "metadata": {},
   "outputs": [
    {
     "name": "stdout",
     "output_type": "stream",
     "text": [
      "0.7085\n"
     ]
    }
   ],
   "source": [
    "# This is the accuracy of our model on test set\n",
    "print(np.mean(pred == test['stars']))"
   ]
  },
  {
   "cell_type": "code",
   "execution_count": 26,
   "metadata": {},
   "outputs": [],
   "source": [
    "# Store the prediction to csv\n",
    "sub_df = pd.DataFrame()\n",
    "sub_df[\"pre\"] = pred\n",
    "sub_df.to_csv(\"data/pre_rcnn_h256.csv\", index=False)"
   ]
  },
  {
   "cell_type": "code",
   "execution_count": 27,
   "metadata": {},
   "outputs": [],
   "source": [
    "import torch.nn.functional as F\n",
    "from torch.autograd import Variable\n",
    "val = pd.read_csv('data/mod_valid.csv')\n",
    "pred_val = []\n",
    "for i in range(len(val['text'])):\n",
    "    with torch.no_grad():\n",
    "        test_sen = TEXT.preprocess(val['text'][i])\n",
    "        test_sen = np.asarray([[TEXT.vocab.stoi[x] for x in test_sen]])\n",
    "        test_sen = torch.LongTensor(test_sen)\n",
    "        test_tensor = Variable(test_sen)\n",
    "        test_tensor = test_tensor.cuda()\n",
    "        model.eval()\n",
    "        output = model(test_tensor, 1)\n",
    "        out = F.softmax(output, 1)\n",
    "        out = torch.argmax(out[0]).item()\n",
    "        out = map_reverse(out)\n",
    "        pred_val.append(out)"
   ]
  },
  {
   "cell_type": "code",
   "execution_count": 28,
   "metadata": {},
   "outputs": [
    {
     "name": "stdout",
     "output_type": "stream",
     "text": [
      "0.726\n"
     ]
    }
   ],
   "source": [
    "# This is the validation accuracy\n",
    "print(np.mean(pred_val == val['stars']))"
   ]
  },
  {
   "cell_type": "code",
   "execution_count": null,
   "metadata": {},
   "outputs": [],
   "source": []
  }
 ],
 "metadata": {
  "kernelspec": {
   "display_name": "Python 3",
   "language": "python",
   "name": "python3"
  },
  "language_info": {
   "codemirror_mode": {
    "name": "ipython",
    "version": 3
   },
   "file_extension": ".py",
   "mimetype": "text/x-python",
   "name": "python",
   "nbconvert_exporter": "python",
   "pygments_lexer": "ipython3",
   "version": "3.6.8"
  }
 },
 "nbformat": 4,
 "nbformat_minor": 2
}
